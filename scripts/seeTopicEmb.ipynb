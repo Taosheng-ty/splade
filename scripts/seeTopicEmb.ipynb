{
 "cells": [
  {
   "cell_type": "code",
   "execution_count": 1,
   "metadata": {},
   "outputs": [],
   "source": [
    "import sys\n",
    "# sys.path.append(\"../\")\n",
    "import os\n",
    "os.chdir(\"../\")"
   ]
  },
  {
   "cell_type": "code",
   "execution_count": 24,
   "metadata": {},
   "outputs": [],
   "source": [
    "import pickle\n",
    "import numpy as np"
   ]
  },
  {
   "cell_type": "code",
   "execution_count": 8,
   "metadata": {},
   "outputs": [],
   "source": [
    "with open('output/log-doc-tf-topk-10.pkl', 'rb') as f:\n",
    "    doc_tf = pickle.load(f)\n",
    "\n",
    "with open('output/corpus-tf-log-tensor-dict.pkl', 'rb') as f:\n",
    "    cortf_Rep=pickle.load( f)"
   ]
  },
  {
   "cell_type": "code",
   "execution_count": 5,
   "metadata": {},
   "outputs": [],
   "source": [
    "from splade.datasets.dataloaders import CollectionDataLoader\n",
    "from splade.datasets.datasets import CollectionDatasetPreLoad\n",
    "from splade.utils.utils import get_dataset_name, get_initialize_config\n",
    "from splade.utils.metrics import truncate_run"
   ]
  },
  {
   "cell_type": "code",
   "execution_count": 15,
   "metadata": {},
   "outputs": [
    {
     "name": "stdout",
     "output_type": "stream",
     "text": [
      "Preloading dataset\n"
     ]
    },
    {
     "data": {
      "application/vnd.jupyter.widget-view+json": {
       "model_id": "9e0375081f854ef89f21fb37fcebdc54",
       "version_major": 2,
       "version_minor": 0
      },
      "text/plain": [
       "0it [00:00, ?it/s]"
      ]
     },
     "metadata": {},
     "output_type": "display_data"
    }
   ],
   "source": [
    "collection=\"data/msmarco/full_collection\"\n",
    "q_collection=\"data/msmarco/train_queries/queries\"\n",
    "# collection = CollectionDatasetPreLoad(data_dir=collection, id_style=\"content_id\")\n",
    "\n",
    "q_collection = CollectionDatasetPreLoad(data_dir=q_collection, id_style=\"content_id\")"
   ]
  },
  {
   "cell_type": "code",
   "execution_count": 19,
   "metadata": {},
   "outputs": [
    {
     "data": {
      "text/plain": [
       "['121352', '634306', '920825', '510633']"
      ]
     },
     "execution_count": 19,
     "metadata": {},
     "output_type": "execute_result"
    }
   ],
   "source": [
    "list(q_collection.data_dict.keys())[:4]"
   ]
  },
  {
   "cell_type": "code",
   "execution_count": 20,
   "metadata": {},
   "outputs": [
    {
     "name": "stdout",
     "output_type": "stream",
     "text": [
      "define extreme\n"
     ]
    }
   ],
   "source": [
    "q_id='121352'\n",
    "queryText=q_collection.data_dict[q_id]\n",
    "print(queryText)"
   ]
  },
  {
   "cell_type": "code",
   "execution_count": 21,
   "metadata": {},
   "outputs": [],
   "source": [
    "topic_Rep=doc_tf[int(q_id)]"
   ]
  },
  {
   "cell_type": "code",
   "execution_count": 26,
   "metadata": {},
   "outputs": [
    {
     "data": {
      "text/plain": [
       "11.289781913656018"
      ]
     },
     "execution_count": 26,
     "metadata": {},
     "output_type": "execute_result"
    }
   ],
   "source": [
    "topic_Rep[6034]\n"
   ]
  },
  {
   "cell_type": "code",
   "execution_count": 27,
   "metadata": {},
   "outputs": [],
   "source": [
    "topic_RepNp=np.zeros_like(cortf_Rep).astype(np.float32)"
   ]
  },
  {
   "cell_type": "code",
   "execution_count": 30,
   "metadata": {},
   "outputs": [],
   "source": [
    "ind=list(topic_Rep.keys())\n",
    "values=list(topic_Rep.values())\n",
    "#queryRep1=self.quer_Rep[ind]\n",
    "topic_RepNp*=0.0\n",
    "topic_RepNp[ind]=values"
   ]
  },
  {
   "cell_type": "code",
   "execution_count": 23,
   "metadata": {},
   "outputs": [],
   "source": [
    "numDocs=8*10**6\n",
    "psuedo_topk=10"
   ]
  },
  {
   "cell_type": "code",
   "execution_count": 31,
   "metadata": {},
   "outputs": [],
   "source": [
    "FinalTopic_Rep=-(cortf_Rep-topic_RepNp)/(numDocs-psuedo_topk)+topic_RepNp/psuedo_topk"
   ]
  },
  {
   "cell_type": "code",
   "execution_count": 32,
   "metadata": {},
   "outputs": [
    {
     "data": {
      "text/plain": [
       "tensor([-1.7329e-07,  0.0000e+00,  0.0000e+00,  ...,  0.0000e+00,\n",
       "         0.0000e+00,  0.0000e+00])"
      ]
     },
     "execution_count": 32,
     "metadata": {},
     "output_type": "execute_result"
    }
   ],
   "source": [
    "FinalTopic_Rep"
   ]
  }
 ],
 "metadata": {
  "kernelspec": {
   "display_name": "splade",
   "language": "python",
   "name": "python3"
  },
  "language_info": {
   "codemirror_mode": {
    "name": "ipython",
    "version": 3
   },
   "file_extension": ".py",
   "mimetype": "text/x-python",
   "name": "python",
   "nbconvert_exporter": "python",
   "pygments_lexer": "ipython3",
   "version": "3.8.13"
  },
  "orig_nbformat": 4
 },
 "nbformat": 4,
 "nbformat_minor": 2
}
