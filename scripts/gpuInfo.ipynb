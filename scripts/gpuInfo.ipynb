{
 "cells": [
  {
   "cell_type": "code",
   "execution_count": 25,
   "metadata": {},
   "outputs": [
    {
     "name": "stdout",
     "output_type": "stream",
     "text": [
      "b'HOSTNAMES           GRES                                              GRES_USED                                         \\n'\n"
     ]
    }
   ],
   "source": [
    "import subprocess\n",
    "\n",
    "batcmd=\"sinfo -N -p notchpeak-gpu-guest --Format='nodehost,gres:50,gresused:50'\"\n",
    "result = subprocess.check_output(batcmd, shell=True)\n",
    "print(result)"
   ]
  },
  {
   "cell_type": "code",
   "execution_count": 27,
   "metadata": {},
   "outputs": [
    {
     "name": "stdout",
     "output_type": "stream",
     "text": [
      "HOSTNAMES           GRES                                              GRES_USED                                         \n"
     ]
    },
    {
     "data": {
      "text/plain": [
       "0"
      ]
     },
     "execution_count": 27,
     "metadata": {},
     "output_type": "execute_result"
    }
   ],
   "source": [
    "import os\n",
    "os.system(batcmd)"
   ]
  },
  {
   "cell_type": "code",
   "execution_count": 21,
   "metadata": {},
   "outputs": [],
   "source": [
    "batcmd=\"sinfo -N -p notchpeak-gpu-guest --Format='nodehost,gres:50,gresused:50'\""
   ]
  },
  {
   "cell_type": "code",
   "execution_count": null,
   "metadata": {},
   "outputs": [],
   "source": [
    "import subprocess\n",
    "p = subprocess.Popen([batcmd], stdout=subprocess.PIPE)\n",
    "out = p.stdout.read()"
   ]
  },
  {
   "cell_type": "code",
   "execution_count": null,
   "metadata": {},
   "outputs": [],
   "source": [
    "import subprocess\n",
    "string=batcmd\n",
    "result=subprocess.getoutput(string)\n",
    "print(\"result::: \",result)"
   ]
  }
 ],
 "metadata": {
  "kernelspec": {
   "display_name": "splade3",
   "language": "python",
   "name": "python3"
  },
  "language_info": {
   "codemirror_mode": {
    "name": "ipython",
    "version": 3
   },
   "file_extension": ".py",
   "mimetype": "text/x-python",
   "name": "python",
   "nbconvert_exporter": "python",
   "pygments_lexer": "ipython3",
   "version": "3.8.13"
  },
  "orig_nbformat": 4
 },
 "nbformat": 4,
 "nbformat_minor": 2
}
