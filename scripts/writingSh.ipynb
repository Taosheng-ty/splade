{
 "cells": [
  {
   "cell_type": "code",
   "execution_count": 20,
   "metadata": {},
   "outputs": [
    {
     "name": "stdout",
     "output_type": "stream",
     "text": [
      "Submitted batch job 68516\n",
      "Submitted batch job 68517\n",
      "Submitted batch job 68518\n",
      "Submitted batch job 68519\n",
      "Submitted batch job 68520\n",
      "Submitted batch job 68521\n"
     ]
    }
   ],
   "source": [
    "from string import Template\n",
    "import random\n",
    "import os\n",
    "experimentSettings={\n",
    "    \"HardWithADWithAQ\":\"config.lambda_hard=1 config.lambda_Doc=1000 config.lambda_Query=1000\",\n",
    "    \"HardWithADWithAQWithPsuedo\":\"config.lambda_hard=1 config.lambda_Doc=1000 config.lambda_Query=1000 config.lambda_psuedo=1000\",\n",
    "    \"HardWithAD\":\"config.lambda_hard=1 config.lambda_Doc=1000\",\n",
    "    \"HardWithAQ\":\"config.lambda_hard=1 config.lambda_Query=1000\",\n",
    "    \"HardWithAQWithPsuedo\":\"config.lambda_hard=1 config.lambda_Query=1000 config.lambda_psuedo=1000\",\n",
    "    \"ADWithAQ\":\"config.lambda_Query=1000 config.lambda_Doc=1000\"\n",
    "}\n",
    "\n",
    "for experimentName in experimentSettings:\n",
    "    # Open the file\n",
    "    exprimentDir=f\"experiments/{experimentName}\"\n",
    "    with open('runNoGpuspecify.sh', 'r') as file:\n",
    "        # Read the contents of the file as a string\n",
    "        file_contents = file.read()\n",
    "\n",
    "        # Define the template string\n",
    "        template = Template(file_contents)\n",
    "        # Substitute placeholders within the string\n",
    "        substituted_string = template.substitute(experimentName=experimentName,Lossweight=experimentSettings[experimentName])\n",
    "\n",
    "        # Print the substituted string\n",
    "        # print(substituted_string)\n",
    "    logPath=os.path.join(exprimentDir,\"logs\")\n",
    "    os.makedirs(logPath, exist_ok=True)\n",
    "    runShFile=os.path.join(logPath,\"run.sh\")\n",
    "    with open(runShFile,\"w\") as file:\n",
    "        file.write(substituted_string)\n",
    "    os.system(f\"sbatch {runShFile}\")"
   ]
  },
  {
   "cell_type": "code",
   "execution_count": null,
   "metadata": {},
   "outputs": [],
   "source": [
    "print(substituted_string)"
   ]
  }
 ],
 "metadata": {
  "kernelspec": {
   "display_name": "splade",
   "language": "python",
   "name": "python3"
  },
  "language_info": {
   "codemirror_mode": {
    "name": "ipython",
    "version": 3
   },
   "file_extension": ".py",
   "mimetype": "text/x-python",
   "name": "python",
   "nbconvert_exporter": "python",
   "pygments_lexer": "ipython3",
   "version": "3.8.13"
  },
  "orig_nbformat": 4
 },
 "nbformat": 4,
 "nbformat_minor": 2
}
